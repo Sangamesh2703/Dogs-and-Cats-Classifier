{
 "cells": [
  {
   "cell_type": "code",
   "execution_count": 1,
   "id": "DRqdzfSv-Epj",
   "metadata": {
    "id": "DRqdzfSv-Epj"
   },
   "outputs": [],
   "source": [
    "#|default_expv app"
   ]
  },
  {
   "cell_type": "code",
   "execution_count": 4,
   "id": "4a68c7ae",
   "metadata": {
    "id": "4a68c7ae"
   },
   "outputs": [],
   "source": [
    "#|export\n",
    "from fastai.learner import load_learner\n",
    "from PIL import Image\n",
    "import gradio as gr\n",
    "\n",
    "def is_cat(x): return x[0].isupper() "
   ]
  },
  {
   "cell_type": "code",
   "execution_count": 5,
   "id": "Z6SI4gHZt0ab",
   "metadata": {
    "colab": {
     "base_uri": "https://localhost:8080/",
     "height": 161
    },
    "id": "Z6SI4gHZt0ab",
    "outputId": "671a6284-dd22-44be-c30e-6d4bd009d8c1"
   },
   "outputs": [
    {
     "ename": "NameError",
     "evalue": "name 'PILImage' is not defined",
     "output_type": "error",
     "traceback": [
      "\u001b[1;31m---------------------------------------------------------------------------\u001b[0m",
      "\u001b[1;31mNameError\u001b[0m                                 Traceback (most recent call last)",
      "\u001b[1;32m~\\AppData\\Local\\Temp/ipykernel_18084/3268927910.py\u001b[0m in \u001b[0;36m<module>\u001b[1;34m\u001b[0m\n\u001b[1;32m----> 1\u001b[1;33m \u001b[0mim\u001b[0m \u001b[1;33m=\u001b[0m \u001b[0mPILImage\u001b[0m\u001b[1;33m.\u001b[0m\u001b[0mcreate\u001b[0m\u001b[1;33m(\u001b[0m\u001b[1;34m'dog.jpg'\u001b[0m\u001b[1;33m)\u001b[0m\u001b[1;33m\u001b[0m\u001b[1;33m\u001b[0m\u001b[0m\n\u001b[0m\u001b[0;32m      2\u001b[0m \u001b[0mim\u001b[0m\u001b[1;33m.\u001b[0m\u001b[0mthumbnail\u001b[0m\u001b[1;33m(\u001b[0m\u001b[1;33m(\u001b[0m\u001b[1;36m192\u001b[0m\u001b[1;33m,\u001b[0m\u001b[1;36m192\u001b[0m\u001b[1;33m)\u001b[0m\u001b[1;33m)\u001b[0m\u001b[1;33m\u001b[0m\u001b[1;33m\u001b[0m\u001b[0m\n\u001b[0;32m      3\u001b[0m \u001b[0mim\u001b[0m\u001b[1;33m\u001b[0m\u001b[1;33m\u001b[0m\u001b[0m\n",
      "\u001b[1;31mNameError\u001b[0m: name 'PILImage' is not defined"
     ]
    }
   ],
   "source": [
    "im = PILImage.create('dog.jpg')\n",
    "im.thumbnail((192,192))\n",
    "im"
   ]
  },
  {
   "cell_type": "code",
   "execution_count": 18,
   "id": "xqcxrJZOuMHl",
   "metadata": {
    "id": "xqcxrJZOuMHl"
   },
   "outputs": [],
   "source": [
    "#|export\n",
    "learn = load_learner('model.pkl')"
   ]
  },
  {
   "cell_type": "code",
   "execution_count": 8,
   "id": "bppIRMNL2Yim",
   "metadata": {
    "colab": {
     "base_uri": "https://localhost:8080/",
     "height": 34
    },
    "id": "bppIRMNL2Yim",
    "outputId": "bd0f4fcb-c30d-461a-f6b3-45d1cf312b10"
   },
   "outputs": [
    {
     "data": {
      "text/html": [
       "\n",
       "<style>\n",
       "    /* Turns off some styling */\n",
       "    progress {\n",
       "        /* gets rid of default border in Firefox and Opera. */\n",
       "        border: none;\n",
       "        /* Needs to be in here for Safari polyfill so background images work as expected. */\n",
       "        background-size: auto;\n",
       "    }\n",
       "    progress:not([value]), progress:not([value])::-webkit-progress-bar {\n",
       "        background: repeating-linear-gradient(45deg, #7e7e7e, #7e7e7e 10px, #5c5c5c 10px, #5c5c5c 20px);\n",
       "    }\n",
       "    .progress-bar-interrupted, .progress-bar-interrupted::-webkit-progress-bar {\n",
       "        background: #F44336;\n",
       "    }\n",
       "</style>\n"
      ],
      "text/plain": [
       "<IPython.core.display.HTML object>"
      ]
     },
     "metadata": {},
     "output_type": "display_data"
    },
    {
     "data": {
      "text/html": [],
      "text/plain": [
       "<IPython.core.display.HTML object>"
      ]
     },
     "metadata": {},
     "output_type": "display_data"
    },
    {
     "data": {
      "text/plain": [
       "('False', TensorBase(0), TensorBase([1.0000e+00, 6.5313e-07]))"
      ]
     },
     "execution_count": 8,
     "metadata": {},
     "output_type": "execute_result"
    }
   ],
   "source": [
    "learn.predict(im)"
   ]
  },
  {
   "cell_type": "code",
   "execution_count": 19,
   "id": "PA8szJBq2dys",
   "metadata": {
    "id": "PA8szJBq2dys"
   },
   "outputs": [],
   "source": [
    "#|export\n",
    "categories = ('Dog','Cat')\n",
    "\n",
    "def classify_images(img):\n",
    "  pred,idx,probs = learn.predict(img)\n",
    "  return dict(zip(categories, map(float,probs)))"
   ]
  },
  {
   "cell_type": "code",
   "execution_count": 10,
   "id": "gIOS34fw3OFY",
   "metadata": {
    "colab": {
     "base_uri": "https://localhost:8080/",
     "height": 34
    },
    "id": "gIOS34fw3OFY",
    "outputId": "3d3270fe-d30f-4cfe-9e75-b74c8f567ce1"
   },
   "outputs": [
    {
     "data": {
      "text/html": [
       "\n",
       "<style>\n",
       "    /* Turns off some styling */\n",
       "    progress {\n",
       "        /* gets rid of default border in Firefox and Opera. */\n",
       "        border: none;\n",
       "        /* Needs to be in here for Safari polyfill so background images work as expected. */\n",
       "        background-size: auto;\n",
       "    }\n",
       "    progress:not([value]), progress:not([value])::-webkit-progress-bar {\n",
       "        background: repeating-linear-gradient(45deg, #7e7e7e, #7e7e7e 10px, #5c5c5c 10px, #5c5c5c 20px);\n",
       "    }\n",
       "    .progress-bar-interrupted, .progress-bar-interrupted::-webkit-progress-bar {\n",
       "        background: #F44336;\n",
       "    }\n",
       "</style>\n"
      ],
      "text/plain": [
       "<IPython.core.display.HTML object>"
      ]
     },
     "metadata": {},
     "output_type": "display_data"
    },
    {
     "data": {
      "text/html": [],
      "text/plain": [
       "<IPython.core.display.HTML object>"
      ]
     },
     "metadata": {},
     "output_type": "display_data"
    },
    {
     "data": {
      "text/plain": [
       "{'Dog': 0.9999994039535522, 'Cat': 6.531278700094845e-07}"
      ]
     },
     "execution_count": 10,
     "metadata": {},
     "output_type": "execute_result"
    }
   ],
   "source": [
    "classify_images(im)"
   ]
  },
  {
   "cell_type": "code",
   "execution_count": 11,
   "id": "InI6yvAg3TOh",
   "metadata": {
    "colab": {
     "base_uri": "https://localhost:8080/"
    },
    "id": "InI6yvAg3TOh",
    "outputId": "fd4da61f-05f9-48d7-fe71-7f7be55fe8bc"
   },
   "outputs": [
    {
     "name": "stderr",
     "output_type": "stream",
     "text": [
      "/usr/local/lib/python3.7/dist-packages/gradio/inputs.py:257: UserWarning: Usage of gradio.inputs is deprecated, and will not be supported in the future, please import your component from gradio.components\n",
      "  \"Usage of gradio.inputs is deprecated, and will not be supported in the future, please import your component from gradio.components\",\n",
      "/usr/local/lib/python3.7/dist-packages/gradio/deprecation.py:40: UserWarning: `optional` parameter is deprecated, and it has no effect\n",
      "  warnings.warn(value)\n",
      "/usr/local/lib/python3.7/dist-packages/gradio/outputs.py:197: UserWarning: Usage of gradio.outputs is deprecated, and will not be supported in the future, please import your components from gradio.components\n",
      "  \"Usage of gradio.outputs is deprecated, and will not be supported in the future, please import your components from gradio.components\",\n",
      "/usr/local/lib/python3.7/dist-packages/gradio/deprecation.py:40: UserWarning: The 'type' parameter has been deprecated. Use the Number component instead.\n",
      "  warnings.warn(value)\n"
     ]
    },
    {
     "name": "stdout",
     "output_type": "stream",
     "text": [
      "Colab notebook detected. To show errors in colab notebook, set `debug=True` in `launch()`\n",
      "Running on public URL: https://46781.gradio.app\n",
      "\n",
      "This share link expires in 72 hours. For free permanent hosting, check out Spaces: https://huggingface.co/spaces\n"
     ]
    },
    {
     "data": {
      "text/plain": [
       "(<gradio.routes.App at 0x7f6c0ecbd250>,\n",
       " 'http://127.0.0.1:7860/',\n",
       " 'https://46781.gradio.app')"
      ]
     },
     "execution_count": 11,
     "metadata": {},
     "output_type": "execute_result"
    }
   ],
   "source": [
    "#|export\n",
    "image = gr.inputs.Image(shape=(192,192))\n",
    "label = gr.outputs.Label()\n",
    "\n",
    "intf = gr.Interface(fn=classify_images, inputs=image, outputs=label)\n",
    "intf.launch(inline=False)"
   ]
  },
  {
   "cell_type": "code",
   "execution_count": 12,
   "id": "iFSPEkPW4LNg",
   "metadata": {
    "id": "iFSPEkPW4LNg"
   },
   "outputs": [],
   "source": [
    "m = learn.model"
   ]
  },
  {
   "cell_type": "code",
   "execution_count": 13,
   "id": "1qQHDCqg4bTm",
   "metadata": {
    "id": "1qQHDCqg4bTm"
   },
   "outputs": [],
   "source": [
    "ps = list(m.parameters())"
   ]
  },
  {
   "cell_type": "code",
   "execution_count": 14,
   "id": "9Dqo4z_Q5OPi",
   "metadata": {
    "colab": {
     "base_uri": "https://localhost:8080/"
    },
    "id": "9Dqo4z_Q5OPi",
    "outputId": "12fb9759-d08b-425e-c019-55b9308f0e41"
   },
   "outputs": [
    {
     "data": {
      "text/plain": [
       "Parameter containing:\n",
       "tensor([ 2.3354e-01,  2.6572e-01, -5.1096e-08,  5.1890e-01,  3.4404e-09,\n",
       "         2.2505e-01,  4.2238e-01,  1.3153e-07,  2.5062e-01,  1.5152e-06,\n",
       "         3.1717e-01,  2.5101e-01,  3.7763e-01,  1.0862e-05,  2.7484e-01,\n",
       "         2.3678e-01,  2.4192e-01,  3.9597e-01,  4.7087e-01,  2.9040e-01,\n",
       "         2.7101e-01,  2.7815e-01,  2.9033e-01,  2.0787e-01,  2.5954e-01,\n",
       "         2.7993e-01,  2.9236e-01,  3.1566e-01,  3.8785e-01,  3.0191e-01,\n",
       "         2.6638e-01,  2.1039e-01,  2.8616e-01,  3.3030e-01,  4.2668e-01,\n",
       "         3.7317e-01,  7.4804e-08,  1.9048e-01,  1.4740e-08,  2.2501e-01,\n",
       "         1.8082e-01,  2.4883e-01,  2.7247e-01,  2.5912e-01,  2.9463e-01,\n",
       "         2.9890e-01,  2.2480e-01,  2.6406e-01,  2.2001e-08,  2.6558e-01,\n",
       "         2.2037e-01,  2.8304e-01,  3.2963e-01,  2.2843e-01,  3.6554e-01,\n",
       "         2.1269e-01,  2.3919e-01,  2.5082e-01,  5.2501e-01,  2.4820e-01,\n",
       "         2.9392e-01,  2.5831e-01,  4.8124e-01,  2.6435e-01],\n",
       "       requires_grad=True)"
      ]
     },
     "execution_count": 14,
     "metadata": {},
     "output_type": "execute_result"
    }
   ],
   "source": [
    "ps[1]"
   ]
  },
  {
   "cell_type": "code",
   "execution_count": 15,
   "id": "GJaH9g_q5Qkk",
   "metadata": {
    "colab": {
     "base_uri": "https://localhost:8080/"
    },
    "id": "GJaH9g_q5Qkk",
    "outputId": "5305c6d9-2843-4dca-f63d-4f7c4219809e"
   },
   "outputs": [
    {
     "data": {
      "text/plain": [
       "torch.Size([64, 3, 7, 7])"
      ]
     },
     "execution_count": 15,
     "metadata": {},
     "output_type": "execute_result"
    }
   ],
   "source": [
    "ps[0].shape"
   ]
  },
  {
   "cell_type": "code",
   "execution_count": 20,
   "id": "FQVSOfrG5XK3",
   "metadata": {
    "colab": {
     "base_uri": "https://localhost:8080/"
    },
    "id": "FQVSOfrG5XK3",
    "outputId": "9f9bb3a6-23bd-429a-e9cd-b3ca3a0c0660"
   },
   "outputs": [
    {
     "data": {
      "text/plain": [
       "Parameter containing:\n",
       "tensor([[[[-1.0419e-02, -6.1233e-03, -1.7957e-03,  ...,  5.6619e-02,\n",
       "            1.7078e-02, -1.2734e-02],\n",
       "          [ 1.1107e-02,  9.5548e-03, -1.0989e-01,  ..., -2.7122e-01,\n",
       "           -1.2908e-01,  3.7064e-03],\n",
       "          [-6.9059e-03,  5.9133e-02,  2.9550e-01,  ...,  5.1973e-01,\n",
       "            2.5632e-01,  6.3553e-02],\n",
       "          ...,\n",
       "          [-2.7453e-02,  1.6112e-02,  7.2638e-02,  ..., -3.3281e-01,\n",
       "           -4.2054e-01, -2.5779e-01],\n",
       "          [ 3.0708e-02,  4.1032e-02,  6.2888e-02,  ...,  4.1387e-01,\n",
       "            3.9363e-01,  1.6608e-01],\n",
       "          [-1.3648e-02, -3.6169e-03, -2.4055e-02,  ..., -1.5067e-01,\n",
       "           -8.2194e-02, -5.7691e-03]],\n",
       "\n",
       "         [[-1.1448e-02, -2.6665e-02, -3.4693e-02,  ...,  3.2455e-02,\n",
       "            5.9281e-04, -2.5829e-02],\n",
       "          [ 4.5664e-02,  3.3567e-02, -1.0457e-01,  ..., -3.1259e-01,\n",
       "           -1.6059e-01, -1.3744e-03],\n",
       "          [-8.4796e-04,  9.8390e-02,  4.0204e-01,  ...,  7.0783e-01,\n",
       "            3.6879e-01,  1.2448e-01],\n",
       "          ...,\n",
       "          [-5.5908e-02, -5.2375e-03,  2.7052e-02,  ..., -4.6179e-01,\n",
       "           -5.7081e-01, -3.6555e-01],\n",
       "          [ 3.2891e-02,  5.5569e-02,  9.9636e-02,  ...,  5.4634e-01,\n",
       "            4.8275e-01,  1.9864e-01],\n",
       "          [ 5.3265e-03,  6.6785e-03, -1.7295e-02,  ..., -1.4825e-01,\n",
       "           -7.7263e-02,  6.7897e-04]],\n",
       "\n",
       "         [[-2.0990e-03, -9.2318e-03,  2.1126e-02,  ...,  8.9090e-02,\n",
       "            3.3569e-02, -2.0194e-02],\n",
       "          [ 1.5356e-02, -1.8706e-02, -1.2596e-01,  ..., -2.5349e-01,\n",
       "           -1.2988e-01, -2.8069e-02],\n",
       "          [ 9.8153e-03,  4.9003e-02,  2.1693e-01,  ...,  3.4866e-01,\n",
       "            1.0425e-01,  1.8339e-02],\n",
       "          ...,\n",
       "          [-2.8353e-02,  1.8385e-02,  9.8611e-02,  ..., -1.1742e-01,\n",
       "           -2.5762e-01, -1.5454e-01],\n",
       "          [ 2.0781e-02, -2.6417e-03, -3.7866e-02,  ...,  2.4139e-01,\n",
       "            2.4345e-01,  1.1794e-01],\n",
       "          [ 7.5845e-04,  7.5446e-04, -1.0098e-02,  ..., -1.4868e-01,\n",
       "           -1.1754e-01, -3.8376e-02]]],\n",
       "\n",
       "\n",
       "        [[[-4.3171e-03, -3.9441e-03,  3.2690e-03,  ..., -3.6954e-02,\n",
       "           -2.5111e-02, -4.7897e-02],\n",
       "          [ 5.1432e-02,  5.3540e-02,  8.0561e-02,  ...,  1.4490e-01,\n",
       "            1.4295e-01,  1.2320e-01],\n",
       "          [-7.1928e-03,  2.3151e-03,  3.7690e-02,  ...,  6.1622e-02,\n",
       "            8.0415e-02,  1.1724e-01],\n",
       "          ...,\n",
       "          [-2.6592e-02, -1.2283e-01, -1.3641e-01,  ..., -1.4059e-01,\n",
       "           -1.1148e-01, -4.9488e-02],\n",
       "          [ 2.3696e-02, -1.7144e-02, -1.0998e-02,  ..., -1.8701e-02,\n",
       "           -2.3220e-02, -2.9392e-02],\n",
       "          [ 2.8844e-02,  2.1800e-02,  4.8017e-02,  ...,  2.5617e-02,\n",
       "            3.5451e-02,  1.1381e-02]],\n",
       "\n",
       "         [[ 5.4526e-04,  1.2255e-02,  4.2130e-02,  ...,  4.6458e-02,\n",
       "            4.0448e-02, -1.4415e-02],\n",
       "          [ 4.3577e-02,  6.8907e-02,  1.3279e-01,  ...,  2.8613e-01,\n",
       "            2.6911e-01,  2.0940e-01],\n",
       "          [-5.7476e-02, -2.2511e-02,  3.0645e-02,  ...,  1.3771e-01,\n",
       "            1.6544e-01,  1.7952e-01],\n",
       "          ...,\n",
       "          [-1.0802e-01, -2.5215e-01, -2.9733e-01,  ..., -2.8496e-01,\n",
       "           -2.1488e-01, -1.0316e-01],\n",
       "          [ 4.0848e-02, -3.2662e-02, -6.3359e-02,  ..., -9.2260e-02,\n",
       "           -6.9794e-02, -4.9777e-02],\n",
       "          [ 8.3065e-02,  8.7680e-02,  1.0120e-01,  ...,  5.2810e-02,\n",
       "            6.1051e-02,  4.1277e-02]],\n",
       "\n",
       "         [[-1.6354e-02, -1.3814e-02,  5.3359e-03,  ...,  4.3718e-02,\n",
       "            2.2703e-02, -4.5982e-02],\n",
       "          [ 3.3287e-02,  4.2106e-02,  9.3573e-02,  ...,  2.6166e-01,\n",
       "            2.2973e-01,  1.6696e-01],\n",
       "          [-4.5868e-02, -1.6270e-02,  2.6867e-02,  ...,  1.4956e-01,\n",
       "            1.3220e-01,  1.3582e-01],\n",
       "          ...,\n",
       "          [-7.2020e-02, -1.8895e-01, -2.3385e-01,  ..., -1.9035e-01,\n",
       "           -1.5607e-01, -7.5954e-02],\n",
       "          [ 5.1258e-02, -2.5753e-02, -6.9308e-02,  ..., -5.8934e-02,\n",
       "           -6.1490e-02, -4.4511e-02],\n",
       "          [ 1.1183e-01,  7.9033e-02,  6.5887e-02,  ...,  3.1678e-02,\n",
       "            2.5287e-02,  7.4854e-03]]],\n",
       "\n",
       "\n",
       "        [[[-7.0824e-08, -6.4305e-08, -7.3805e-08,  ..., -9.7998e-08,\n",
       "           -1.0904e-07, -8.3420e-08],\n",
       "          [-6.1124e-09,  2.0612e-09, -8.0921e-09,  ..., -4.9840e-08,\n",
       "           -4.3835e-08, -3.0537e-09],\n",
       "          [ 7.1952e-08,  7.5615e-08,  5.9281e-08,  ..., -9.7507e-09,\n",
       "           -1.0951e-09,  4.2442e-08],\n",
       "          ...,\n",
       "          [ 9.5887e-08,  1.0039e-07,  7.9816e-08,  ..., -1.7490e-08,\n",
       "           -4.7665e-08, -1.3265e-08],\n",
       "          [ 1.2904e-07,  1.4761e-07,  1.7476e-07,  ...,  1.3232e-07,\n",
       "            1.0628e-07,  9.3314e-08],\n",
       "          [ 1.2558e-07,  1.3644e-07,  1.8431e-07,  ...,  2.1398e-07,\n",
       "            1.7709e-07,  1.7166e-07]],\n",
       "\n",
       "         [[-1.2690e-07, -9.6137e-08, -1.0372e-07,  ..., -1.1808e-07,\n",
       "           -1.3309e-07, -1.0819e-07],\n",
       "          [-5.7412e-08, -2.5054e-08, -3.0114e-08,  ..., -7.2921e-08,\n",
       "           -6.7021e-08, -2.2574e-08],\n",
       "          [ 2.1813e-08,  4.8608e-08,  3.1221e-08,  ..., -1.8694e-08,\n",
       "           -7.9589e-09,  3.9749e-08],\n",
       "          ...,\n",
       "          [ 5.6012e-08,  7.5524e-08,  4.4495e-08,  ..., -4.4127e-08,\n",
       "           -5.9929e-08, -1.8247e-08],\n",
       "          [ 7.7612e-08,  9.8346e-08,  1.0455e-07,  ...,  6.3270e-08,\n",
       "            4.1780e-08,  4.5900e-08],\n",
       "          [ 5.9832e-08,  7.1005e-08,  9.0435e-08,  ...,  1.1654e-07,\n",
       "            8.7549e-08,  9.8835e-08]],\n",
       "\n",
       "         [[-4.3809e-08,  1.3270e-08,  7.8274e-09,  ..., -5.8803e-09,\n",
       "           -2.6217e-08, -1.5649e-08],\n",
       "          [ 4.1699e-08,  1.0777e-07,  1.0946e-07,  ...,  7.6402e-08,\n",
       "            7.1449e-08,  9.7613e-08],\n",
       "          [ 1.0436e-07,  1.6585e-07,  1.5933e-07,  ...,  1.3517e-07,\n",
       "            1.3487e-07,  1.6448e-07],\n",
       "          ...,\n",
       "          [ 9.8762e-08,  1.5072e-07,  1.2546e-07,  ...,  6.8314e-08,\n",
       "            6.8381e-08,  1.1367e-07],\n",
       "          [ 9.1433e-08,  1.3576e-07,  1.3793e-07,  ...,  1.1678e-07,\n",
       "            1.1723e-07,  1.4394e-07],\n",
       "          [ 6.2181e-08,  8.8183e-08,  1.0456e-07,  ...,  1.3941e-07,\n",
       "            1.3332e-07,  1.5844e-07]]],\n",
       "\n",
       "\n",
       "        ...,\n",
       "\n",
       "\n",
       "        [[[-6.1929e-02, -3.0247e-02,  1.9208e-02,  ...,  4.3652e-02,\n",
       "           -2.2102e-02, -4.2195e-02],\n",
       "          [-3.8146e-02,  6.0209e-03,  4.5798e-02,  ...,  9.5987e-02,\n",
       "            5.9177e-02,  2.9936e-02],\n",
       "          [-2.9743e-02,  2.7522e-03,  2.0494e-02,  ...,  5.9771e-02,\n",
       "            4.1339e-02,  2.3130e-02],\n",
       "          ...,\n",
       "          [ 1.1866e-02,  4.5673e-02,  4.4890e-02,  ...,  4.7418e-02,\n",
       "            2.2303e-02, -5.4211e-03],\n",
       "          [-3.2558e-02, -1.2272e-02,  2.1995e-02,  ...,  5.8057e-02,\n",
       "           -7.4978e-03, -5.9644e-02],\n",
       "          [-4.3371e-02, -2.8198e-02, -5.9087e-03,  ...,  8.8467e-02,\n",
       "            8.4762e-03, -4.9897e-02]],\n",
       "\n",
       "         [[-6.1330e-02, -1.4071e-02,  1.7191e-02,  ...,  1.8263e-02,\n",
       "           -3.2798e-02, -4.1136e-02],\n",
       "          [-3.1568e-02,  2.4403e-02,  4.5527e-02,  ...,  6.6669e-02,\n",
       "            4.6493e-02,  3.3132e-02],\n",
       "          [-3.2261e-02,  2.0695e-02,  2.3379e-02,  ...,  3.5121e-02,\n",
       "            3.6290e-02,  3.1217e-02],\n",
       "          ...,\n",
       "          [ 1.7757e-02,  6.1049e-02,  4.8277e-02,  ...,  3.7732e-02,\n",
       "            2.8859e-02,  1.4033e-02],\n",
       "          [-1.0894e-02,  2.2064e-02,  4.2749e-02,  ...,  6.0241e-02,\n",
       "            1.6174e-02, -1.2415e-02],\n",
       "          [-2.2257e-02,  1.3250e-02,  3.0974e-02,  ...,  1.0407e-01,\n",
       "            4.0147e-02, -5.2095e-03]],\n",
       "\n",
       "         [[-8.5298e-02, -4.2599e-02,  6.8223e-03,  ...,  3.0692e-02,\n",
       "           -3.4900e-02, -5.0013e-02],\n",
       "          [-2.9203e-02,  1.8195e-02,  5.1152e-02,  ...,  9.0145e-02,\n",
       "            5.3316e-02,  4.0081e-02],\n",
       "          [-3.9895e-02, -1.0473e-03,  9.7004e-03,  ...,  2.4069e-02,\n",
       "            2.6197e-02,  2.5441e-02],\n",
       "          ...,\n",
       "          [-3.1034e-03,  3.0548e-02,  1.6412e-02,  ...,  5.5202e-03,\n",
       "           -6.2544e-03, -8.3794e-03],\n",
       "          [-2.2927e-02, -2.7460e-03,  2.3286e-02,  ...,  3.5941e-02,\n",
       "           -1.4277e-02, -3.2315e-02],\n",
       "          [-9.7821e-03,  7.1682e-03,  1.0809e-02,  ...,  7.0576e-02,\n",
       "            1.3063e-02, -8.2043e-03]]],\n",
       "\n",
       "\n",
       "        [[[-7.7439e-03,  2.0016e-02,  3.4308e-02,  ...,  2.8846e-02,\n",
       "            1.2977e-02,  1.8280e-02],\n",
       "          [ 8.9082e-03, -3.2836e-02, -3.5647e-02,  ...,  7.2681e-02,\n",
       "            4.6039e-02,  5.2518e-02],\n",
       "          [-3.6050e-02, -1.1876e-01, -1.3765e-01,  ...,  3.3915e-02,\n",
       "            3.7944e-02,  2.7098e-02],\n",
       "          ...,\n",
       "          [ 1.7426e-02,  4.0108e-03, -8.2285e-03,  ...,  2.8146e-03,\n",
       "            1.8402e-02,  1.6137e-02],\n",
       "          [-9.0028e-04,  1.6457e-02,  1.7127e-02,  ...,  3.3546e-03,\n",
       "            2.2873e-02,  7.0735e-04],\n",
       "          [ 6.1499e-03,  2.7096e-02,  1.4255e-02,  ...,  7.4893e-03,\n",
       "            1.8719e-02,  1.5632e-02]],\n",
       "\n",
       "         [[-1.3228e-02, -3.3005e-04,  8.2296e-03,  ..., -5.9212e-03,\n",
       "            9.4044e-03,  1.5888e-02],\n",
       "          [-1.8120e-02, -6.7833e-02, -7.0523e-02,  ...,  3.0053e-02,\n",
       "            2.6429e-02,  2.3914e-02],\n",
       "          [-5.4182e-02, -1.4649e-01, -1.6206e-01,  ...,  1.1937e-02,\n",
       "            3.2645e-02,  1.2155e-02],\n",
       "          ...,\n",
       "          [ 1.0219e-03, -1.7404e-02, -1.9492e-02,  ..., -4.0089e-03,\n",
       "            2.4805e-02,  1.3012e-02],\n",
       "          [-5.4622e-04,  1.1854e-02,  2.4777e-02,  ...,  6.1361e-03,\n",
       "            3.9275e-02,  9.7641e-03],\n",
       "          [-7.1707e-03,  6.6515e-03,  5.1598e-03,  ..., -7.6883e-03,\n",
       "            2.7235e-02,  1.7788e-02]],\n",
       "\n",
       "         [[-5.9950e-05, -4.7879e-03,  2.4118e-03,  ..., -4.7784e-02,\n",
       "           -2.5975e-02, -2.3381e-02],\n",
       "          [-1.3440e-04, -5.1376e-02, -5.9836e-02,  ..., -1.7176e-02,\n",
       "           -2.3165e-02, -3.7173e-02],\n",
       "          [-2.2534e-02, -9.9324e-02, -1.1172e-01,  ..., -1.1574e-02,\n",
       "           -8.2061e-03, -4.0439e-02],\n",
       "          ...,\n",
       "          [ 1.1571e-02, -7.9550e-03, -1.5185e-03,  ..., -3.4006e-02,\n",
       "           -8.5774e-03, -2.3417e-02],\n",
       "          [ 3.0211e-03,  7.1234e-04,  1.9867e-02,  ..., -2.1981e-02,\n",
       "            1.4882e-02, -1.4398e-02],\n",
       "          [-1.9073e-02, -2.9477e-02, -2.3393e-02,  ..., -4.8682e-02,\n",
       "           -1.3063e-02, -2.4316e-02]]],\n",
       "\n",
       "\n",
       "        [[[-3.6272e-02,  7.2227e-03,  1.9132e-02,  ...,  1.9665e-02,\n",
       "            1.4941e-02, -1.7269e-02],\n",
       "          [-1.1034e-02,  8.5703e-02,  1.2671e-01,  ...,  1.3797e-02,\n",
       "            2.4122e-05, -3.0125e-02],\n",
       "          [ 1.1324e-01,  1.8636e-01,  5.0693e-02,  ..., -1.7328e-01,\n",
       "           -7.1966e-02, -6.2446e-02],\n",
       "          ...,\n",
       "          [-5.3054e-02, -2.5780e-01, -2.6746e-01,  ...,  2.6782e-01,\n",
       "            1.4347e-01,  5.5179e-02],\n",
       "          [-2.0986e-02, -2.9951e-02,  1.0247e-01,  ...,  2.0845e-01,\n",
       "           -4.1084e-03, -3.8052e-02],\n",
       "          [-2.2138e-02,  1.2407e-02,  8.4365e-02,  ..., -4.4959e-02,\n",
       "           -1.4682e-01, -9.0805e-02]],\n",
       "\n",
       "         [[-5.4067e-03,  3.2799e-02,  1.5503e-02,  ..., -7.6770e-03,\n",
       "            3.1092e-03,  1.1695e-03],\n",
       "          [ 6.1710e-02,  1.4900e-01,  1.4648e-01,  ..., -2.8836e-02,\n",
       "           -2.0136e-02, -9.1380e-03],\n",
       "          [ 1.6142e-01,  2.0885e-01, -2.5580e-02,  ..., -2.7273e-01,\n",
       "           -1.0728e-01, -6.2942e-02],\n",
       "          ...,\n",
       "          [-1.3728e-01, -4.0867e-01, -3.8554e-01,  ...,  4.0844e-01,\n",
       "            2.6202e-01,  1.3492e-01],\n",
       "          [-5.9445e-02, -6.1239e-02,  1.4193e-01,  ...,  3.5776e-01,\n",
       "            9.0879e-02, -1.7189e-03],\n",
       "          [ 7.7898e-03,  5.8355e-02,  1.5337e-01,  ...,  4.7013e-02,\n",
       "           -1.0096e-01, -9.7899e-02]],\n",
       "\n",
       "         [[-5.6929e-03,  1.3417e-02, -2.6464e-02,  ...,  4.5390e-03,\n",
       "            2.1292e-03,  1.3934e-02],\n",
       "          [ 6.5767e-03,  4.5177e-02,  6.0258e-02,  ...,  1.4410e-02,\n",
       "           -5.0093e-03,  4.0807e-03],\n",
       "          [ 5.5214e-02,  1.2395e-01,  4.3172e-02,  ..., -1.4483e-01,\n",
       "           -7.4447e-02, -5.7526e-02],\n",
       "          ...,\n",
       "          [-3.1599e-02, -1.6342e-01, -1.5803e-01,  ...,  2.2900e-01,\n",
       "            1.2015e-01,  7.1989e-02],\n",
       "          [-1.0553e-02, -1.2192e-03,  8.4490e-02,  ...,  1.5742e-01,\n",
       "            2.2096e-02, -1.0090e-02],\n",
       "          [-4.9913e-03, -5.1052e-03,  3.6270e-02,  ..., -2.4433e-02,\n",
       "           -7.1247e-02, -6.6799e-02]]]], requires_grad=True)"
      ]
     },
     "execution_count": 20,
     "metadata": {},
     "output_type": "execute_result"
    }
   ],
   "source": [
    "ps[0]"
   ]
  },
  {
   "cell_type": "code",
   "execution_count": null,
   "id": "b32616e4",
   "metadata": {},
   "outputs": [],
   "source": []
  }
 ],
 "metadata": {
  "colab": {
   "collapsed_sections": [],
   "provenance": []
  },
  "kernelspec": {
   "display_name": "Python 3 (ipykernel)",
   "language": "python",
   "name": "python3"
  },
  "language_info": {
   "codemirror_mode": {
    "name": "ipython",
    "version": 3
   },
   "file_extension": ".py",
   "mimetype": "text/x-python",
   "name": "python",
   "nbconvert_exporter": "python",
   "pygments_lexer": "ipython3",
   "version": "3.9.7"
  },
  "vscode": {
   "interpreter": {
    "hash": "f2ccb58c476f33ba3e3aee7ac07234ef6b8217ef24ad64d2a7d4fed1a57c1cd2"
   }
  }
 },
 "nbformat": 4,
 "nbformat_minor": 5
}
