{
 "cells": [
  {
   "cell_type": "code",
   "execution_count": 3,
   "id": "13fbb456",
   "metadata": {},
   "outputs": [
    {
     "name": "stdout",
     "output_type": "stream",
     "text": [
      "Requirement already satisfied: fastai in d:\\python\\lib\\site-packages (2.7.9)\n",
      "Requirement already satisfied: fastprogress>=0.2.4 in d:\\python\\lib\\site-packages (from fastai) (1.0.3)\n",
      "Requirement already satisfied: torchvision>=0.8.2 in d:\\python\\lib\\site-packages (from fastai) (0.13.1)\n",
      "Requirement already satisfied: fastcore<1.6,>=1.4.5 in d:\\python\\lib\\site-packages (from fastai) (1.5.22)\n",
      "Requirement already satisfied: requests in d:\\python\\lib\\site-packages (from fastai) (2.26.0)\n",
      "Requirement already satisfied: pyyaml in d:\\python\\lib\\site-packages (from fastai) (6.0)\n",
      "Requirement already satisfied: pandas in d:\\python\\lib\\site-packages (from fastai) (1.3.4)\n",
      "Requirement already satisfied: scikit-learn in d:\\python\\lib\\site-packages (from fastai) (1.1.1)\n",
      "Requirement already satisfied: matplotlib in d:\\python\\lib\\site-packages (from fastai) (3.5.2)\n",
      "Requirement already satisfied: scipy in d:\\python\\lib\\site-packages (from fastai) (1.8.1)\n",
      "Requirement already satisfied: torch<1.14,>=1.7 in d:\\python\\lib\\site-packages (from fastai) (1.12.1)\n",
      "Requirement already satisfied: fastdownload<2,>=0.0.5 in d:\\python\\lib\\site-packages (from fastai) (0.0.7)\n",
      "Requirement already satisfied: pillow>6.0.0 in d:\\python\\lib\\site-packages (from fastai) (9.2.0)\n",
      "Requirement already satisfied: spacy<4 in d:\\python\\lib\\site-packages (from fastai) (3.4.1)\n",
      "Requirement already satisfied: pip in d:\\python\\lib\\site-packages (from fastai) (21.2.4)\n",
      "Requirement already satisfied: packaging in d:\\python\\lib\\site-packages (from fastai) (21.3)\n",
      "Requirement already satisfied: spacy-legacy<3.1.0,>=3.0.9 in d:\\python\\lib\\site-packages (from spacy<4->fastai) (3.0.10)\n",
      "Requirement already satisfied: pathy>=0.3.5 in d:\\python\\lib\\site-packages (from spacy<4->fastai) (0.6.2)\n",
      "Requirement already satisfied: numpy>=1.15.0 in d:\\python\\lib\\site-packages (from spacy<4->fastai) (1.23.0)\n",
      "Requirement already satisfied: catalogue<2.1.0,>=2.0.6 in d:\\python\\lib\\site-packages (from spacy<4->fastai) (2.0.8)\n",
      "Requirement already satisfied: setuptools in d:\\python\\lib\\site-packages (from spacy<4->fastai) (58.0.4)\n",
      "Requirement already satisfied: tqdm<5.0.0,>=4.38.0 in d:\\python\\lib\\site-packages (from spacy<4->fastai) (4.62.3)\n",
      "Requirement already satisfied: wasabi<1.1.0,>=0.9.1 in d:\\python\\lib\\site-packages (from spacy<4->fastai) (0.10.1)\n",
      "Requirement already satisfied: pydantic!=1.8,!=1.8.1,<1.10.0,>=1.7.4 in d:\\python\\lib\\site-packages (from spacy<4->fastai) (1.9.2)\n",
      "Requirement already satisfied: langcodes<4.0.0,>=3.2.0 in d:\\python\\lib\\site-packages (from spacy<4->fastai) (3.3.0)\n",
      "Requirement already satisfied: jinja2 in d:\\python\\lib\\site-packages (from spacy<4->fastai) (2.11.3)\n",
      "Requirement already satisfied: typer<0.5.0,>=0.3.0 in d:\\python\\lib\\site-packages (from spacy<4->fastai) (0.4.2)\n",
      "Requirement already satisfied: murmurhash<1.1.0,>=0.28.0 in d:\\python\\lib\\site-packages (from spacy<4->fastai) (1.0.8)\n",
      "Requirement already satisfied: spacy-loggers<2.0.0,>=1.0.0 in d:\\python\\lib\\site-packages (from spacy<4->fastai) (1.0.3)\n",
      "Requirement already satisfied: cymem<2.1.0,>=2.0.2 in d:\\python\\lib\\site-packages (from spacy<4->fastai) (2.0.6)\n",
      "Requirement already satisfied: thinc<8.2.0,>=8.1.0 in d:\\python\\lib\\site-packages (from spacy<4->fastai) (8.1.0)\n",
      "Requirement already satisfied: srsly<3.0.0,>=2.4.3 in d:\\python\\lib\\site-packages (from spacy<4->fastai) (2.4.4)\n",
      "Requirement already satisfied: preshed<3.1.0,>=3.0.2 in d:\\python\\lib\\site-packages (from spacy<4->fastai) (3.0.7)\n",
      "Requirement already satisfied: pyparsing!=3.0.5,>=2.0.2 in d:\\python\\lib\\site-packages (from packaging->fastai) (3.0.9)\n",
      "Requirement already satisfied: smart-open<6.0.0,>=5.2.1 in d:\\python\\lib\\site-packages (from pathy>=0.3.5->spacy<4->fastai) (5.2.1)\n",
      "Requirement already satisfied: typing-extensions>=3.7.4.3 in d:\\python\\lib\\site-packages (from pydantic!=1.8,!=1.8.1,<1.10.0,>=1.7.4->spacy<4->fastai) (3.10.0.2)\n",
      "Requirement already satisfied: urllib3<1.27,>=1.21.1 in d:\\python\\lib\\site-packages (from requests->fastai) (1.26.7)\n",
      "Requirement already satisfied: charset-normalizer~=2.0.0 in d:\\python\\lib\\site-packages (from requests->fastai) (2.0.4)\n",
      "Requirement already satisfied: idna<4,>=2.5 in d:\\python\\lib\\site-packages (from requests->fastai) (3.2)\n",
      "Requirement already satisfied: certifi>=2017.4.17 in d:\\python\\lib\\site-packages (from requests->fastai) (2022.6.15)\n",
      "Requirement already satisfied: blis<0.8.0,>=0.7.8 in d:\\python\\lib\\site-packages (from thinc<8.2.0,>=8.1.0->spacy<4->fastai) (0.7.8)\n",
      "Requirement already satisfied: colorama in d:\\python\\lib\\site-packages (from tqdm<5.0.0,>=4.38.0->spacy<4->fastai) (0.4.4)\n",
      "Requirement already satisfied: click<9.0.0,>=7.1.1 in d:\\python\\lib\\site-packages (from typer<0.5.0,>=0.3.0->spacy<4->fastai) (8.0.3)\n",
      "Requirement already satisfied: MarkupSafe>=0.23 in d:\\python\\lib\\site-packages (from jinja2->spacy<4->fastai) (1.1.1)\n",
      "Requirement already satisfied: cycler>=0.10 in d:\\python\\lib\\site-packages (from matplotlib->fastai) (0.11.0)\n",
      "Requirement already satisfied: fonttools>=4.22.0 in d:\\python\\lib\\site-packages (from matplotlib->fastai) (4.33.3)\n",
      "Requirement already satisfied: python-dateutil>=2.7 in d:\\python\\lib\\site-packages (from matplotlib->fastai) (2.8.2)\n",
      "Requirement already satisfied: kiwisolver>=1.0.1 in d:\\python\\lib\\site-packages (from matplotlib->fastai) (1.4.3)\n",
      "Requirement already satisfied: six>=1.5 in d:\\python\\lib\\site-packages (from python-dateutil>=2.7->matplotlib->fastai) (1.16.0)\n",
      "Requirement already satisfied: pytz>=2017.3 in d:\\python\\lib\\site-packages (from pandas->fastai) (2021.3)\n",
      "Requirement already satisfied: joblib>=1.0.0 in d:\\python\\lib\\site-packages (from scikit-learn->fastai) (1.1.0)\n",
      "Requirement already satisfied: threadpoolctl>=2.0.0 in d:\\python\\lib\\site-packages (from scikit-learn->fastai) (2.2.0)\n",
      "Note: you may need to restart the kernel to use updated packages.\n"
     ]
    },
    {
     "name": "stderr",
     "output_type": "stream",
     "text": [
      "WARNING: Ignoring invalid distribution -atplotlib (d:\\python\\lib\\site-packages)\n",
      "WARNING: Ignoring invalid distribution -atplotlib (d:\\python\\lib\\site-packages)\n",
      "WARNING: Ignoring invalid distribution -atplotlib (d:\\python\\lib\\site-packages)\n",
      "WARNING: Ignoring invalid distribution -atplotlib (d:\\python\\lib\\site-packages)\n",
      "WARNING: Ignoring invalid distribution -atplotlib (d:\\python\\lib\\site-packages)\n",
      "WARNING: Ignoring invalid distribution -atplotlib (d:\\python\\lib\\site-packages)\n"
     ]
    }
   ],
   "source": [
    "pip install fastai"
   ]
  },
  {
   "cell_type": "code",
   "execution_count": 4,
   "id": "4a68c7ae",
   "metadata": {
    "slideshow": {
     "slide_type": "slide"
    }
   },
   "outputs": [
    {
     "ename": "NameError",
     "evalue": "name 'untar_data' is not defined",
     "output_type": "error",
     "traceback": [
      "\u001b[1;31m---------------------------------------------------------------------------\u001b[0m",
      "\u001b[1;31mNameError\u001b[0m                                 Traceback (most recent call last)",
      "\u001b[1;32m~\\AppData\\Local\\Temp/ipykernel_19648/1715017909.py\u001b[0m in \u001b[0;36m<module>\u001b[1;34m\u001b[0m\n\u001b[1;32m----> 1\u001b[1;33m \u001b[0mpath\u001b[0m \u001b[1;33m=\u001b[0m \u001b[0muntar_data\u001b[0m\u001b[1;33m(\u001b[0m\u001b[0mURLs\u001b[0m\u001b[1;33m.\u001b[0m\u001b[0mPETS\u001b[0m\u001b[1;33m)\u001b[0m\u001b[1;33m/\u001b[0m\u001b[1;34m'images'\u001b[0m\u001b[1;33m\u001b[0m\u001b[1;33m\u001b[0m\u001b[0m\n\u001b[0m",
      "\u001b[1;31mNameError\u001b[0m: name 'untar_data' is not defined"
     ]
    }
   ],
   "source": [
    "path = untar_data(URLs.PETS)/'images'"
   ]
  },
  {
   "cell_type": "code",
   "execution_count": null,
   "id": "a668f66b",
   "metadata": {},
   "outputs": [],
   "source": []
  }
 ],
 "metadata": {
  "kernelspec": {
   "display_name": "Python 3 (ipykernel)",
   "language": "python",
   "name": "python3"
  },
  "language_info": {
   "codemirror_mode": {
    "name": "ipython",
    "version": 3
   },
   "file_extension": ".py",
   "mimetype": "text/x-python",
   "name": "python",
   "nbconvert_exporter": "python",
   "pygments_lexer": "ipython3",
   "version": "3.9.7"
  }
 },
 "nbformat": 4,
 "nbformat_minor": 5
}
